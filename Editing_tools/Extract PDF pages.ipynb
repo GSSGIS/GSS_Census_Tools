{
 "cells": [
  {
   "cell_type": "markdown",
   "metadata": {},
   "source": [
    "# Extracting pages from PDF\n",
    "\n",
    "Extract each page in the input pdf as a separate output pdf, name the pdf according to the EA name, which is stored in the document"
   ]
  },
  {
   "cell_type": "code",
   "execution_count": 1,
   "metadata": {},
   "outputs": [],
   "source": [
    "import sys, os, PyPDF2\n",
    "from tika import parser"
   ]
  },
  {
   "cell_type": "code",
   "execution_count": 33,
   "metadata": {},
   "outputs": [],
   "source": [
    "inputPDF_file = r\"C:\\Users\\WB411133\\OneDrive - WBG\\AAA_BPS\\GOST\\Projects\\Ghana_Census_Support\\Data\\GSS_Data\\0101.pdf\"\n",
    "outFolder = r\"C:\\Users\\WB411133\\OneDrive - WBG\\AAA_BPS\\GOST\\Projects\\Ghana_Census_Support\\Data\\GSS_Data\\EA_PDFs\""
   ]
  },
  {
   "cell_type": "code",
   "execution_count": 54,
   "metadata": {},
   "outputs": [],
   "source": [
    "# Open the pdf file stream\n",
    "pdf_obj = open(inputPDF_file, 'rb')\n",
    "pdfReader = PyPDF2.PdfFileReader(pdf_obj) \n",
    "\n",
    "# Loop through each page\n",
    "for idx in range(0, pdfReader.numPages):\n",
    "    # Write the current page to file\n",
    "    cPage = pdfReader.getPage(idx)    \n",
    "    outFile = os.path.join(outFolder, \"{}.pdf\".format(idx))\n",
    "    pdfWriter = PyPDF2.PdfFileWriter()\n",
    "    pdfWriter.addPage(cPage)\n",
    "    newFile = open(outFile, 'wb')\n",
    "    pdfWriter.write(newFile)\n",
    "    newFile.close()\n",
    "    \n",
    "    # Open the new pdf for this page with texrtact to find the EA name\n",
    "    raw = parser.from_file(outFile)\n",
    "    eaNum = raw['content'].split(\"2010 EA CODE\")[0][-11:-1]\n",
    "    finalFile = os.path.join(outFolder, \"{}.pdf\".format(eaNum))\n",
    "    additional_page_count = 1\n",
    "    # Some EAs cover multiple pages, each of those need an _* after the ea name\n",
    "    while os.path.exists(finalFile):\n",
    "        finalFile = os.path.join(outFolder, \"{}_{}.pdf\".format(eaNum, additional_page_count))\n",
    "        additional_page_count = additional_page_count + 1\n",
    "    # rename the file\n",
    "    os.rename(outFile, finalFile)\n",
    "    "
   ]
  }
 ],
 "metadata": {
  "kernelspec": {
   "display_name": "Python (geog)",
   "language": "python",
   "name": "geog"
  },
  "language_info": {
   "codemirror_mode": {
    "name": "ipython",
    "version": 3
   },
   "file_extension": ".py",
   "mimetype": "text/x-python",
   "name": "python",
   "nbconvert_exporter": "python",
   "pygments_lexer": "ipython3",
   "version": "3.6.7"
  }
 },
 "nbformat": 4,
 "nbformat_minor": 2
}
